{
 "cells": [
  {
   "cell_type": "markdown",
   "id": "3ec2a61c",
   "metadata": {},
   "source": [
    "CONNECTING TO POSTGRESDATABASE AND CREATING RELATIONAL DATA SCHEMA"
   ]
  },
  {
   "cell_type": "code",
   "execution_count": null,
   "id": "48e34017",
   "metadata": {},
   "outputs": [],
   "source": [
    "import pandas as pd\n",
    "import sqlalchemy\n",
    "import psycopg2"
   ]
  },
  {
   "cell_type": "code",
   "execution_count": 2,
   "id": "947a2d28",
   "metadata": {},
   "outputs": [],
   "source": [
    "db_config = {\n",
    "    'user': 'postgres',\n",
    "    'password': '12345678',\n",
    "    'host': 'localhost',\n",
    "    'port': '5432',\n",
    "    'database': 'postgres'\n",
    "}\n"
   ]
  },
  {
   "cell_type": "code",
   "execution_count": 3,
   "id": "88fe24ed",
   "metadata": {},
   "outputs": [],
   "source": [
    "conn = psycopg2.connect(**db_config)\n",
    "\n",
    "# Create a cursor\n",
    "cursor = conn.cursor()\n",
    "\n"
   ]
  },
  {
   "cell_type": "code",
   "execution_count": 4,
   "id": "1753fd1d",
   "metadata": {},
   "outputs": [],
   "source": [
    "cursor.execute(\"CREATE SCHEMA IF NOT EXISTS FetchRewards;\")\n"
   ]
  },
  {
   "cell_type": "code",
   "execution_count": 5,
   "id": "85beb028",
   "metadata": {},
   "outputs": [],
   "source": [
    "users=\"\"\"\n",
    "CREATE TABLE IF NOT EXISTS FetchRewards.users (\n",
    "        userId VARCHAR(255) PRIMARY KEY,\n",
    "        active BOOLEAN,\n",
    "        createdDate TIMESTAMP,\n",
    "        lastLogin TIMESTAMP,\n",
    "        role VARCHAR(255),\n",
    "        signUpSource VARCHAR(255),\n",
    "        state VARCHAR(255)\n",
    ");\n",
    "\"\"\"\n"
   ]
  },
  {
   "cell_type": "code",
   "execution_count": 7,
   "id": "d4bd2e20",
   "metadata": {},
   "outputs": [],
   "source": [
    "cursor.execute(users)"
   ]
  },
  {
   "cell_type": "code",
   "execution_count": 6,
   "id": "eb879f26",
   "metadata": {},
   "outputs": [],
   "source": [
    "brands = \"\"\"\n",
    "    CREATE TABLE IF NOT EXISTS FetchRewards.brands (\n",
    "        barcode VARCHAR(255),\n",
    "        category VARCHAR(255),\n",
    "        categoryCode VARCHAR(255),\n",
    "        name VARCHAR(255),\n",
    "        topBrand BOOLEAN,\n",
    "        brandCode VARCHAR(255),\n",
    "        cpgId VARCHAR(255),\n",
    "        cpgRef VARCHAR(255),\n",
    "        brandId VARCHAR(255) PRIMARY KEY\n",
    "    );\n",
    "    \"\"\"\n",
    "cursor.execute(brands)\n"
   ]
  },
  {
   "cell_type": "code",
   "execution_count": 8,
   "id": "53370f47",
   "metadata": {},
   "outputs": [],
   "source": [
    "\n",
    "receipts = \"\"\"\n",
    "    CREATE TABLE IF NOT EXISTS FetchRewards.receipts (\n",
    "        receiptId VARCHAR(255) PRIMARY KEY,\n",
    "        bonusPointsEarned NUMERIC(38,2),\n",
    "        bonusPointsEarnedReason VARCHAR(255),\n",
    "        createDate TIMESTAMP,\n",
    "        dateScanned TIMESTAMP,\n",
    "        finishedDate TIMESTAMP,\n",
    "        modifyDate TIMESTAMP,\n",
    "        pointsAwardedDate TIMESTAMP,\n",
    "        pointsEarned NUMERIC(38,2),\n",
    "        purchaseDate TIMESTAMP,\n",
    "        purchasedItemCount NUMERIC(38,2),\n",
    "        rewardsReceiptStatus VARCHAR(255),\n",
    "        totalSpent NUMERIC(38,2),\n",
    "        userId VARCHAR(255),\n",
    "        FOREIGN KEY (userId) REFERENCES FetchRewards.users(userId)\n",
    "    );\n",
    "    \"\"\"\n",
    "cursor.execute(receipts)\n"
   ]
  },
  {
   "cell_type": "code",
   "execution_count": 9,
   "id": "9179beed",
   "metadata": {},
   "outputs": [],
   "source": [
    "\n",
    "items = \"\"\"\n",
    "    CREATE TABLE IF NOT EXISTS FetchRewards.items (\n",
    "    barcode VARCHAR(255),\n",
    "    description VARCHAR(255),\n",
    "    finalPrice NUMERIC(38,2),\n",
    "    itemPrice NUMERIC(38,2),\n",
    "    needsFetchReview BOOLEAN,\n",
    "    partnerItemId VARCHAR(255),\n",
    "    preventTargetGapPoints BOOLEAN,\n",
    "    quantityPurchased NUMERIC(38,2),\n",
    "    userFlaggedBarcode VARCHAR(255),\n",
    "    userFlaggedNewItem BOOLEAN,\n",
    "    userFlaggedPrice NUMERIC(38,2),\n",
    "    userFlaggedQuantity NUMERIC(38,2),\n",
    "    receiptId VARCHAR(255),\n",
    "    needsFetchReviewReason VARCHAR(255),\n",
    "    pointsNotAwardedReason VARCHAR(255),\n",
    "    pointsPayerId VARCHAR(255),\n",
    "    rewardsGroup VARCHAR(255),\n",
    "    rewardsProductPartnerId VARCHAR(255),\n",
    "    userFlaggedDescription VARCHAR(255),\n",
    "    originalMetaBriteBarcode VARCHAR(255),\n",
    "    originalMetaBriteDescription VARCHAR(255),\n",
    "    brandCode VARCHAR(255),\n",
    "    competitorRewardsGroup VARCHAR(255),\n",
    "    discountedItemPrice NUMERIC(38,2),\n",
    "    originalReceiptItemText VARCHAR(255),\n",
    "    itemNumber NUMERIC(38,2),\n",
    "    originalMetaBriteQuantityPurchased NUMERIC(38,2),\n",
    "    pointsEarned NUMERIC(38,2),\n",
    "    targetPrice NUMERIC(38,2),\n",
    "    competitiveProduct BOOLEAN,\n",
    "    originalFinalPrice NUMERIC(38,2),\n",
    "    originalMetaBriteItemPrice NUMERIC(38,2),\n",
    "    deleted BOOLEAN,\n",
    "    priceAfterCoupon NUMERIC(38,2),\n",
    "    metabriteCampaignId VARCHAR(255),\n",
    "    PRIMARY KEY (receiptId, partnerItemId),\n",
    "    FOREIGN KEY (receiptId) REFERENCES FetchRewards.receipts(receiptId)\n",
    ");\n",
    "\n",
    "    \"\"\"\n",
    "cursor.execute(items)\n"
   ]
  },
  {
   "cell_type": "code",
   "execution_count": 10,
   "id": "4c26aa75",
   "metadata": {},
   "outputs": [],
   "source": [
    "conn.commit()\n",
    "\n",
    "cursor.close()"
   ]
  },
  {
   "cell_type": "code",
   "execution_count": 11,
   "id": "af3544fe",
   "metadata": {},
   "outputs": [],
   "source": [
    "conn.close()"
   ]
  }
 ],
 "metadata": {
  "kernelspec": {
   "display_name": "Python 3 (ipykernel)",
   "language": "python",
   "name": "python3"
  },
  "language_info": {
   "codemirror_mode": {
    "name": "ipython",
    "version": 3
   },
   "file_extension": ".py",
   "mimetype": "text/x-python",
   "name": "python",
   "nbconvert_exporter": "python",
   "pygments_lexer": "ipython3",
   "version": "3.9.7"
  }
 },
 "nbformat": 4,
 "nbformat_minor": 5
}
